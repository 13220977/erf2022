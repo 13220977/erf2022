{
 "cells": [
  {
   "cell_type": "code",
   "execution_count": 77,
   "metadata": {},
   "outputs": [],
   "source": [
    "import cv2\n",
    "import numpy as np\n",
    "import numpy as np\n",
    "import cv2 as cv\n",
    "from matplotlib import pyplot as plt\n",
    "\n",
    "image2 = cv2.imread('map3.pgm')\n",
    "kernel = np.ones((7,7), np.uint8)\n",
    "work2 = cv2.erode(image2, kernel, iterations=1)\n",
    "\n",
    "\n",
    "#gray = np.float32(work)\n",
    "skernel = np.ones((7,7),np.float32)/49\n",
    "#gray = cv.filter2D(work,-1,skernel)\n",
    "gray2 = cv.blur(work2,(3,3))\n",
    "\n",
    "#gray = cv.bilateralFilter(work,9,75,75)\n",
    "#gray = cv.medianBlur(work,3)\n",
    "\n",
    "# plt.imshow(gray)\n",
    "# plt.show()\n",
    "gray2 = cv2.cvtColor(gray2, cv2.COLOR_BGR2GRAY)\n",
    "\n",
    "#corners = cv2.dilate(corners, None)\n",
    "\n",
    "a = cv.cvtColor(gray2, cv.COLOR_BGR2RGB)"
   ]
  },
  {
   "cell_type": "code",
   "execution_count": 104,
   "metadata": {},
   "outputs": [
    {
     "data": {
      "image/png": "[encoded data removed]",
      "text/plain": [
       "<Figure size 432x288 with 1 Axes>"
      ]
     },
     "metadata": {
      "needs_background": "light"
     },
     "output_type": "display_data"
    },
    {
     "data": {
      "image/png": "[encoded data removed]",
      "text/plain": [
       "<Figure size 432x288 with 1 Axes>"
      ]
     },
     "metadata": {
      "needs_background": "light"
     },
     "output_type": "display_data"
    }
   ],
   "source": [
    "\n",
    "\n",
    "image = cv2.imread('map3.pgm')\n",
    "kernel = np.ones((7,7), np.uint8)\n",
    "work = cv2.erode(image, kernel, iterations=1)\n",
    "\n",
    "\n",
    "#gray = np.float32(work)\n",
    "skernel = np.ones((7,7),np.float32)/49\n",
    "#gray = cv.filter2D(work,-1,skernel)\n",
    "gray = cv.blur(work,(3,3))\n",
    "\n",
    "#gray = cv.bilateralFilter(work,9,75,75)\n",
    "#gray = cv.medianBlur(work,3)\n",
    "\n",
    "# plt.imshow(gray)\n",
    "# plt.show()\n",
    "gray = cv2.cvtColor(gray, cv2.COLOR_BGR2GRAY)\n",
    "\n",
    "corners = cv2.cornerHarris(gray, 2, 5, 0.10)\n",
    "\n",
    "#corners = cv2.dilate(corners, None)\n",
    "\n",
    "\n",
    "gray[corners > 0.01 * corners.max()]=[95]\n",
    "\n",
    "X, Y = np.nonzero(corners>0.01*corners.max())\n",
    "\n",
    "# print(a[0, 0])\n",
    "# for x,y in zip(X, Y):\n",
    "#     print(a[x, y])\n",
    "plt.imshow(a)\n",
    "plt.show()\n",
    "\n",
    "points = []\n",
    "for x,y in zip(X, Y):\n",
    "    if a[x,y, 0] != 254:\n",
    "        gray[x,y] = a[x, y, 0]\n",
    "    else:\n",
    "        points.append([x,y])\n",
    "\n",
    "gray = cv.cvtColor(gray, cv.COLOR_BGR2RGB)\n",
    "\n",
    "plt.imshow(gray)\n",
    "plt.show()\n"
   ]
  },
  {
   "cell_type": "code",
   "execution_count": 107,
   "metadata": {},
   "outputs": [
    {
     "name": "stdout",
     "output_type": "stream",
     "text": [
      "[[-5.078955, 3.0842980000000004], [-5.028955, 3.0842980000000004], [-4.428955, 1.3842980000000003], [-4.228955, 0.6342980000000003], [-3.5789549999999997, -1.0157019999999999], [-3.328955, 0.9342980000000001], [-2.778955, -0.7157019999999998], [-2.728955, -0.7657019999999999], [-2.528955, 3.8342980000000004], [-2.528955, 3.8842980000000003], [-1.478955, 0.584298]]\n"
     ]
    },
    {
     "ename": "",
     "evalue": "",
     "output_type": "error",
     "traceback": [
      "\u001b[1;31mThe Kernel crashed while executing code in the the current cell or a previous cell. Please review the code in the cell(s) to identify a possible cause of the failure. Click <a href='https://aka.ms/vscodeJupyterKernelCrash'>here</a> for more info. View Jupyter <a href='command:jupyter.viewOutput'>log</a> for further details."
     ]
    }
   ],
   "source": [
    "res = 0.050000\n",
    "origin_x = -5.478955\n",
    "origin_y = -1.565702\n",
    "pixel_points = []\n",
    "for pixel_x, pixel_y in points:\n",
    "    real_x = pixel_x * res + origin_x\n",
    "    real_y = pixel_y * res + origin_y\n",
    "    pixel_points.append([real_x, real_y])\n",
    "print(pixel_points)"
   ]
  }
 ],
 "metadata": {
  "kernelspec": {
   "display_name": "Python 3.8.10 64-bit",
   "language": "python",
   "name": "python3"
  },
  "language_info": {
   "codemirror_mode": {
    "name": "ipython",
    "version": 3
   },
   "file_extension": ".py",
   "mimetype": "text/x-python",
   "name": "python",
   "nbconvert_exporter": "python",
   "pygments_lexer": "ipython3",
   "version": "3.8.10"
  },
  "orig_nbformat": 4,
  "vscode": {
   "interpreter": {
    "hash": "916dbcbb3f70747c44a77c7bcd40155683ae19c65e1c03b4aa3499c5328201f1"
   }
  }
 },
 "nbformat": 4,
 "nbformat_minor": 2
}
