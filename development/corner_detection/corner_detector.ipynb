{
 "cells": [
  {
   "cell_type": "code",
   "execution_count": 1,
   "metadata": {},
   "outputs": [],
   "source": [
    "import numpy as np\n",
    "import cv2 as cv"
   ]
  },
  {
   "cell_type": "code",
   "execution_count": 2,
   "metadata": {},
   "outputs": [],
   "source": [
    "\n",
    "# filename = 'map_example.png'\n",
    "filename = 'example_2.png'\n",
    "img = cv.imread(filename)\n",
    "gray = cv.cvtColor(img,cv.COLOR_BGR2GRAY)\n",
    "gray = np.float32(gray)\n",
    "# kernel = np.ones((7,7),np.float32)/49\n",
    "# gray = cv.filter2D(gray,-1,kernel)\n",
    "# gray = cv.blur(gray,(7,7))\n",
    "\n",
    "gray = cv.bilateralFilter(gray,9,75,75)\n",
    "gray = cv.medianBlur(gray,5)\n",
    "\n",
    "\n",
    "dst = cv.cornerHarris(gray,6,3,0.04)\n",
    "#result is dilated for marking the corners, not important\n",
    "dst = cv.dilate(dst,None)\n",
    "# Threshold for an optimal value, it may vary depending on the image.\n",
    "img[dst>0.1*dst.max()]=[0,0,255]\n",
    "\n",
    "\n",
    "cv.imshow('dst',img)\n",
    "\n",
    "\n",
    "if cv.waitKey(0) & 0xff == 27:\n",
    "    cv.destroyAllWindows()"
   ]
  }
 ],
 "metadata": {
  "kernelspec": {
   "display_name": "Python 3.10.4 64-bit",
   "language": "python",
   "name": "python3"
  },
  "language_info": {
   "codemirror_mode": {
    "name": "ipython",
    "version": 3
   },
   "file_extension": ".py",
   "mimetype": "text/x-python",
   "name": "python",
   "nbconvert_exporter": "python",
   "pygments_lexer": "ipython3",
   "version": "3.10.4"
  },
  "orig_nbformat": 4,
  "vscode": {
   "interpreter": {
    "hash": "d143f4d32ab87197ada631382eed8d670f937c64d848b4064395edb09fdc2935"
   }
  }
 },
 "nbformat": 4,
 "nbformat_minor": 2
}
